{
 "cells": [
  {
   "cell_type": "markdown",
   "metadata": {},
   "source": [
    "# Spatial and Spectral Tile"
   ]
  },
  {
   "cell_type": "markdown",
   "metadata": {},
   "source": [
    "作者：于峻川 \n",
    "\n",
    "邮箱：jasonyu@live.cn\n",
    "\n",
    "\n",
    "\n"
   ]
  },
  {
   "cell_type": "markdown",
   "metadata": {},
   "source": [
    "\n",
    "idl对于大影像处理时需要进行分块操作，也是idl进行遥感应用的核心技术，通过该测试了解idl空间分块和光谱分块的过程。"
   ]
  },
  {
   "cell_type": "code",
   "execution_count": 0,
   "metadata": {
    "collapsed": true
   },
   "outputs": [],
   "source": [
    "  input_file=envi_pickfile(/multiple_files,title='Pick the input file for testing')\n",
    "  out_dir=envi_pickfile(/directory,title='pick output directory')\n",
    "  out_fname=out_dir+'\\'+(strsplit((file_basename(input_files)),'.',/extract))[0]+'_output.img'\n",
    "  \n",
    "  ENVI_OPEN_FILE,inputfile,R_FID=fid\n",
    "  envi_file_query, fid, dims=dims, nb=nb,NS=ns,NL=nl,data_type=data_type，interleave=interleave\n",
    "  mapinfo=envi_get_map_info(fid=fid) \n",
    "  pos=indgen(nb)；"
   ]
  },
  {
   "cell_type": "markdown",
   "metadata": {},
   "source": [
    "通过上面的语句定义输入文件和输出文件名，并读取相关参数，主要包括dims，nb，ns，nl，data_type，interleave,pos以及mapinfo。测试使用的数据ENVI自带的can_tmr.img其获取参数如下所示："
   ]
  },
  {
   "cell_type": "code",
   "execution_count": 1,
   "metadata": {
    "collapsed": true
   },
   "outputs": [],
   "source": [
    "dims=[-1,0,639,0,399]\n",
    "ns=640\n",
    "nl=640\n",
    "nb=6\n",
    "data_type=1\n",
    "interleave=0\n",
    "pos=[0,1,2,3,4,5]  ; "
   ]
  },
  {
   "cell_type": "markdown",
   "metadata": {},
   "source": [
    "接下来是实现idl的空间分块的操作，首先建立一个空文件用来保存结果文件"
   ]
  },
  {
   "cell_type": "code",
   "execution_count": 2,
   "metadata": {
    "collapsed": true
   },
   "outputs": [],
   "source": [
    "  openw,lun, out_fname,/get_lun；"
   ]
  },
  {
   "cell_type": "markdown",
   "metadata": {},
   "source": [
    "分块用的是envi_init_tile命令，该命令利用interleave的值来确定进行空间分块还是光谱分块，0表示空间分块，1或2表示光谱分块，因此如果使用空间分块可以直接将interleave赋值为0，如果使用光谱分块可以如果使用光谱分块可以使用interleave=interleave>1来实现，该语句表明如果输入文件为baq或bil格式（interleave均≤1），interleave值将赋予1，如果输入文件为bip格式，interleave值将赋予2."
   ]
  },
  {
   "cell_type": "code",
   "execution_count": 3,
   "metadata": {
    "collapsed": true
   },
   "outputs": [],
   "source": [
    " tile_id = envi_init_tile(fid, pos, interleave=0,  num_tiles=num_tiles,$\n",
    " xs=dims[1], xe=dims[2],  ys=dims[3], ye=dims[4])；"
   ]
  },
  {
   "cell_type": "markdown",
   "metadata": {},
   "source": [
    "无论数据格式如何，空间分块的大小是不变的，均为ns×nl,空间分块的个数为nb，光谱分块的大小由输入格式决定，如果为bil，则分块大小为ns×nb，如果为bip，则分块大小为nb×ns，光谱分块个数不变为nl。\n",
    "由于空间分块中num_tiles等于波段数，因此适合以波段为计算单位的操作。光谱分块无法进行波段运算的过程进行分块，只适用于进行光谱计算相关的操作。"
   ]
  },
  {
   "cell_type": "code",
   "execution_count": 4,
   "metadata": {
    "collapsed": true
   },
   "outputs": [],
   "source": [
    "for i=0L, num_tiles-1 do begin\n",
    "    data= envi_get_tile(tile_id, i)\n",
    "    writeu,lun,data\n",
    "endfor\n",
    "  \n",
    "  free_lun, lun\n",
    "  close,lun\n",
    "  envi_tile_done, tile_id\n",
    "  envi_setup_head, fname=out_fname, INTERLEAVE=0, ns=ns, nl=nl,  nb=nb,$\n",
    "  data_type=data_type,  map_info=map_info, /write, /open；"
   ]
  },
  {
   "cell_type": "markdown",
   "metadata": {},
   "source": [
    "如前所述，data为空间分块后获取的一个tile，它的维度是640×400。需要注意的是，对于基于波段的具体计算过程均要在for循环中表述，该计算过程也必须针对单一tile进行，程序会利用for循环将计算过程应用到所有的tile。在这种直接由envi_get_tile赋值data的前提下，writeu语句也必须写入for循环之内，才能保证输出data是具有nb个波段的数据。此时，如果将writeu放在for循环的外侧，必须重新对data进行定义，否则输入结果data的维度只是一个tile的大小（最后一个tile，nb个数为1），而envi_setup_head中已写明数据波段数为nb，这种情况下打开结果文件会报错："
   ]
  },
  {
   "cell_type": "code",
   "execution_count": 11,
   "metadata": {},
   "outputs": [],
   "source": [
    "Warning: The dimensions and data type of the given file are inconsistent with the actual size of the file.\n",
    "Please Correct.；"
   ]
  },
  {
   "cell_type": "markdown",
   "metadata": {},
   "source": [
    "如果需要想将writeu写在循环的外面，必须重新定义data，使其能够按照nb进行循环，并在循环后变成一个完整的具有nb个波段的数据立方体，具体写法如下："
   ]
  },
  {
   "cell_type": "code",
   "execution_count": 5,
   "metadata": {
    "collapsed": true
   },
   "outputs": [],
   "source": [
    " tile_id = envi_init_tile(fid, pos, interleave=0,  num_tiles=num_tiles,$\n",
    " xs=dims[1], xe=dims[2],  ys=dims[3], ye=dims[4])\n",
    " data=bytarr(ns,nl,nb)\n",
    "  for i=0L, num_tiles-1 do begin\n",
    "    data[*,*,i]= envi_get_tile(tile_id, i)\n",
    "  endfor\n",
    "  \n",
    "  writeu,lun,data\n",
    "  free_lun, lun\n",
    "  close,lun\n",
    "  envi_tile_done, tile_id\n",
    "  envi_setup_head, fname=out_fname, INTERLEAVE=0, ns=ns, nl=nl,  nb=nb,$\n",
    "  data_type=data_type,  map_info=map_info, /write, /open；"
   ]
  },
  {
   "cell_type": "markdown",
   "metadata": {},
   "source": [
    "事实上通过测试表明，在进行空间分块的时候，输入文件的格式（bsq/bil/bip）并不重要，只要定义函数envi_init_file中的interleave的值为0，函数将执行空间分块，且输出文件必须定义为bsq格式，即interleave=0.而对于光谱分块来说，情况更为复杂一些，首先，光谱分块的输入文件不可为bsq格式，其次，输入文件与输出文件格式需一致。因此，对于光谱分块来说envi_setup_dead中，interleave=interleave。为了方便操作可以在for循环中加入一个if语句将bip格式转换为bil格式，这样输出文件直接定义为interleave=1即可。"
   ]
  },
  {
   "cell_type": "code",
   "execution_count": 9,
   "metadata": {},
   "outputs": [],
   "source": [
    "  if (interleave eq 2) then begin\n",
    "    data=transpose(data)\n",
    "  endif ；"
   ]
  },
  {
   "cell_type": "markdown",
   "metadata": {},
   "source": [
    "下面给出一段完整的光谱分块的程序："
   ]
  },
  {
   "cell_type": "code",
   "execution_count": 7,
   "metadata": {
    "collapsed": true
   },
   "outputs": [],
   "source": [
    "PRO spectral_tile_TEST\n",
    "  compile_opt strictarr\n",
    "  envi, /restore_base_save_files\n",
    "  ENVI_BATCH_INIT\n",
    "  \n",
    "  inputfile='C:\\Users\\JASONYU.JASONYU-PC\\Desktop\\test.img'\n",
    "  out_fname='C:\\Users\\JASONYU.JASONYU-PC\\Desktop\\test_out.img'\n",
    "  \n",
    "  ENVI_OPEN_FILE,inputfile,R_FID=fid\n",
    "  envi_file_query, fid, dims=dims, nb=nb,NS=ns,NL=nl,data_type=data_type,interleave=interleave\n",
    "  mapinfo=envi_get_map_info(fid=fid)\n",
    "  \n",
    "  pos=indgen(nb)\n",
    "  openw,lun, out_fname,/get_lun\n",
    "  tile_id = envi_init_tile(fid, pos, interleave=interleave>1,  num_tiles=num_tiles,$\n",
    "    xs=dims[1], xe=dims[2],  ys=dims[3], ye=dims[4])\n",
    "  for i=0L, num_tiles-1 do begin\n",
    "    data= envi_get_tile(tile_id, i)\n",
    "    if (interleave eq 2) then begin\n",
    "      data=transpose(data)\n",
    "    endif\n",
    "    writeu,lun,data\n",
    "  endfor\n",
    "  free_lun, lun\n",
    "  close,lun\n",
    "  envi_tile_done, tile_id\n",
    "  envi_setup_head, fname=out_fname, INTERLEAVE=1, ns=ns, nl=nl,nb=nb, data_type=data_type,$\n",
    "  map_info=map_info, /write, /open\n",
    "END；"
   ]
  }
 ],
 "metadata": {
  "kernelspec": {
   "display_name": "IDL",
   "language": "IDL",
   "name": "idl"
  },
  "language_info": {
   "codemirror_mode": "idl",
   "file_extension": ".pro",
   "mimetype": "text/x-idl",
   "name": "idl"
  }
 },
 "nbformat": 4,
 "nbformat_minor": 2
}
